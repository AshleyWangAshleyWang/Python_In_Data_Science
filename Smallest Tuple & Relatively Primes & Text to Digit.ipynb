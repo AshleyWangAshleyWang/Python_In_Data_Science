{
 "cells": [
  {
   "cell_type": "markdown",
   "id": "cf8f9d3d",
   "metadata": {},
   "source": [
    "## Smallest Tuple \n",
    "\n",
    "Write a function that takes two_nums as the input, find the tuple with the smallest difference between the 2 elements, and returns it as the function output!\n",
    "\n",
    "If multiple tuples have the same smallest difference, return a list of them."
   ]
  },
  {
   "cell_type": "code",
   "execution_count": null,
   "id": "b17605a7",
   "metadata": {},
   "outputs": [],
   "source": [
    "def find_tuple(two_nums):\n",
    "    result_list=[]\n",
    "    min_diff=abs(two_nums[0][0]-two_nums[0][1])\n",
    "    for i,j in two_nums:\n",
    "        if abs(i-j)==min_diff:   # 2 digits are the same\n",
    "            result_list.append(tuple([i,j]))\n",
    "        elif abs(i-j)<min_diff:\n",
    "            min_diff=abs(i-j)\n",
    "            result_list=[tuple([i,j])]\n",
    "    if len(result_list) == 1:\n",
    "        return result_list[0]\n",
    "    else:\n",
    "        return result_list"
   ]
  },
  {
   "cell_type": "code",
   "execution_count": null,
   "id": "aad47939",
   "metadata": {},
   "outputs": [],
   "source": [
    "find_tuple([(1, 10), (3, 1), (5, 4)]) #expected output: (5, 4)"
   ]
  },
  {
   "cell_type": "code",
   "execution_count": null,
   "id": "69af7e83",
   "metadata": {},
   "outputs": [],
   "source": [
    "find_tuple([(1, 1), (2, 2), (3, 3)]) #expected output: [(1, 1), (2, 2), (3, 3)]"
   ]
  },
  {
   "cell_type": "code",
   "execution_count": null,
   "id": "52d74dbe",
   "metadata": {},
   "outputs": [],
   "source": [
    "find_tuple([(1, 10), (10, 1), (14, 2)]) #expected output: [(1, 10), (10, 1)]"
   ]
  },
  {
   "cell_type": "code",
   "execution_count": null,
   "id": "e29d1ff8",
   "metadata": {},
   "outputs": [],
   "source": []
  },
  {
   "cell_type": "markdown",
   "id": "3a5d8165",
   "metadata": {},
   "source": [
    "## Relatively Primes\n",
    "\n",
    "You are given a list of tuples called a_list. Find all the tuples that are relatively primes and store them in a list called relative_primes."
   ]
  },
  {
   "cell_type": "code",
   "execution_count": null,
   "id": "ca835072",
   "metadata": {},
   "outputs": [],
   "source": [
    "# expected result: [(12, 17), (7, 81), (5, 7)]\n",
    "a_list = [(12, 17), (12, 18), (4, 8), (7, 81), (5, 7), (2, 2)]"
   ]
  },
  {
   "cell_type": "code",
   "execution_count": null,
   "id": "7b6dbf60",
   "metadata": {},
   "outputs": [],
   "source": [
    "def find_coprime(list_item):\n",
    "    relative_primes=[]\n",
    "    flag=True\n",
    "    for num in list_item:\n",
    "        if num[0]<num[1]:\n",
    "            for j in range(2,num[0]+1):\n",
    "                if num[0]%j==0 and num[1]%j == 0:\n",
    "                    flag=False\n",
    "                    break\n",
    "                else:\n",
    "                    flag=True\n",
    "            if flag is True: \n",
    "                relative_primes.append(num)\n",
    "        elif num[1]<num[0]:\n",
    "            for j in range(2,num[1]+1):\n",
    "                if num[0]%j==0 and num[1]%j == 0:\n",
    "                    flag=False\n",
    "                    break\n",
    "                else:\n",
    "                    flag=True\n",
    "            if flag is True: \n",
    "                relative_primes.append(num)\n",
    "        else:\n",
    "            flag=False\n",
    "            break\n",
    "    return relative_primes"
   ]
  },
  {
   "cell_type": "code",
   "execution_count": null,
   "id": "3b655259",
   "metadata": {},
   "outputs": [],
   "source": [
    "find_coprime(a_list)"
   ]
  },
  {
   "cell_type": "code",
   "execution_count": null,
   "id": "702798fc",
   "metadata": {},
   "outputs": [],
   "source": []
  },
  {
   "cell_type": "markdown",
   "id": "8d2a00ff",
   "metadata": {},
   "source": [
    "## Text to Digit\n",
    "\n",
    "note: solve this problem using dictionary"
   ]
  },
  {
   "cell_type": "code",
   "execution_count": null,
   "id": "26fa58fb",
   "metadata": {},
   "outputs": [],
   "source": [
    "def text_to_digit(s):\n",
    "    # add your code here\n",
    "    result=''\n",
    "    number_diction={\n",
    "        'zero':0,\n",
    "        'one':1,\n",
    "        'two':2,\n",
    "        'three':3,\n",
    "        'four':4,\n",
    "        'five':5,\n",
    "        'six':6,\n",
    "        'seven':7,\n",
    "        'eight':8,\n",
    "        'nine':9}\n",
    "    for i in s.split():\n",
    "        if i in number_diction.keys():\n",
    "            result+=str(number_diction[i])\n",
    "    return int(result)"
   ]
  },
  {
   "cell_type": "code",
   "execution_count": null,
   "id": "6ded44ba",
   "metadata": {},
   "outputs": [],
   "source": [
    "text_to_digit('one two two five') #expected output: 1225"
   ]
  },
  {
   "cell_type": "code",
   "execution_count": null,
   "id": "9bb5b881",
   "metadata": {},
   "outputs": [],
   "source": [
    "text_to_digit('eight zero five six') #expected output: 8056"
   ]
  },
  {
   "cell_type": "code",
   "execution_count": null,
   "id": "e77cc97e",
   "metadata": {},
   "outputs": [],
   "source": [
    "text_to_digit('one four') #expected output: 14"
   ]
  },
  {
   "cell_type": "code",
   "execution_count": null,
   "id": "e99c3cf3",
   "metadata": {},
   "outputs": [],
   "source": [
    "text_to_digit('nine three nine') #expected output: 939"
   ]
  },
  {
   "cell_type": "code",
   "execution_count": null,
   "id": "972e9bc6",
   "metadata": {},
   "outputs": [],
   "source": []
  }
 ],
 "metadata": {
  "kernelspec": {
   "display_name": "Python 3 (ipykernel)",
   "language": "python",
   "name": "python3"
  },
  "language_info": {
   "codemirror_mode": {
    "name": "ipython",
    "version": 3
   },
   "file_extension": ".py",
   "mimetype": "text/x-python",
   "name": "python",
   "nbconvert_exporter": "python",
   "pygments_lexer": "ipython3",
   "version": "3.8.12"
  }
 },
 "nbformat": 4,
 "nbformat_minor": 5
}
