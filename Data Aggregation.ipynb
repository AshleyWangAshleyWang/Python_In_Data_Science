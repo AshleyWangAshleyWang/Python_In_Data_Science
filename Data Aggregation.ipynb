{
 "cells": [
  {
   "cell_type": "markdown",
   "id": "4021cb41",
   "metadata": {},
   "source": [
    "## Data Aggregation"
   ]
  },
  {
   "cell_type": "markdown",
   "id": "fc0b0c8b",
   "metadata": {},
   "source": [
    "Load U.S. Small Business Administration (SBA) loan dataset from Kaggle and do data aggregation.\n",
    "https://www.kaggle.com/mirbektoktogaraev/should-this-loan-be-approved-or-denied"
   ]
  },
  {
   "cell_type": "code",
   "execution_count": null,
   "id": "6c191904",
   "metadata": {},
   "outputs": [],
   "source": []
  },
  {
   "cell_type": "code",
   "execution_count": null,
   "id": "6a9df2de",
   "metadata": {},
   "outputs": [],
   "source": [
    "import pandas as pd\n",
    "import numpy as np\n",
    "sba_loan = pd.read_csv('..../SBAnational.csv')"
   ]
  },
  {
   "cell_type": "markdown",
   "id": "fcfdf965",
   "metadata": {},
   "source": [
    "### data transformations"
   ]
  },
  {
   "cell_type": "code",
   "execution_count": null,
   "id": "af2f1fe6",
   "metadata": {},
   "outputs": [],
   "source": [
    "def Y_N_convert(x):\n",
    "    if x == 'N':\n",
    "        return 0\n",
    "    elif x == 'Y':\n",
    "        return 1\n",
    "    return np.nan"
   ]
  },
  {
   "cell_type": "code",
   "execution_count": null,
   "id": "e2a6980d",
   "metadata": {},
   "outputs": [],
   "source": [
    "def new_exist(x):\n",
    "    if x == 1:\n",
    "        return 1\n",
    "    elif x == 2:\n",
    "        return 0\n",
    "    else:\n",
    "        return np.nan"
   ]
  },
  {
   "cell_type": "code",
   "execution_count": null,
   "id": "c01b83aa",
   "metadata": {},
   "outputs": [],
   "source": [
    "def year_to_int(x):\n",
    "    if isinstance(x, int):\n",
    "        return x\n",
    "    try:\n",
    "        return int(x[:4])\n",
    "    except:\n",
    "        return np.nan"
   ]
  },
  {
   "cell_type": "code",
   "execution_count": null,
   "id": "f3dae851",
   "metadata": {},
   "outputs": [],
   "source": [
    "def money_to_float(x):\n",
    "    try:\n",
    "        return float(x.replace('$', '').replace(',', '').strip())\n",
    "    except:\n",
    "        return np.nan"
   ]
  },
  {
   "cell_type": "code",
   "execution_count": null,
   "id": "bf599ebc",
   "metadata": {},
   "outputs": [],
   "source": [
    "def mis_status(x):\n",
    "    try:\n",
    "        if 'P I F' in x:\n",
    "            return 1\n",
    "        elif 'CHGOFF' in x:\n",
    "            return 0\n",
    "    except:\n",
    "        return np.nan"
   ]
  },
  {
   "cell_type": "code",
   "execution_count": null,
   "id": "15f26170",
   "metadata": {},
   "outputs": [],
   "source": [
    "sba_loan['ApprovalDate'] = pd.to_datetime(sba_loan['ApprovalDate'])\n",
    "sba_loan['ApprovalFY'] = sba_loan['ApprovalFY'].apply(year_to_int)\n",
    "sba_loan['NewExist'] = sba_loan['NewExist'].apply(new_exist).astype('Int64')\n",
    "sba_loan['RevLineCr'] = sba_loan['RevLineCr'].apply(Y_N_convert).astype('Int64')\n",
    "sba_loan['LowDoc'] = sba_loan['LowDoc'].map(Y_N_convert).astype('Int64')\n",
    "sba_loan['ChgOffDate'] = pd.to_datetime(sba_loan['ChgOffDate'])\n",
    "sba_loan['DisbursementDate'] = pd.to_datetime(sba_loan['DisbursementDate'])\n",
    "sba_loan['DisbursementGross'] = sba_loan['DisbursementGross'].map(money_to_float)\n",
    "sba_loan['BalanceGross'] = sba_loan['BalanceGross'].map(money_to_float)\n",
    "sba_loan['MIS_Status'] = sba_loan['MIS_Status'].map(mis_status).astype('Int64')\n",
    "sba_loan['ChgOffPrinGr'] = sba_loan['ChgOffPrinGr'].map(money_to_float)\n",
    "sba_loan['GrAppv'] = sba_loan['GrAppv'].map(money_to_float)\n",
    "sba_loan['SBA_Appv'] = sba_loan['SBA_Appv'].map(money_to_float)"
   ]
  },
  {
   "cell_type": "code",
   "execution_count": null,
   "id": "142df72e",
   "metadata": {},
   "outputs": [],
   "source": [
    "industry_dict = {\n",
    "    11: 'Agriculture, forestry, fishing and hunting',\n",
    "    21: 'Mining, quarrying, and oil and gas extraction',\n",
    "    22: 'Utilities',\n",
    "    23: 'Construction',\n",
    "    31: 'Manufacturing',\n",
    "    32: 'Manufacturing',\n",
    "    33: 'Manufacturing',\n",
    "    42: 'Wholesale trade',\n",
    "    44: 'Retail trade',\n",
    "    45: 'Retail trade',\n",
    "    48: 'Transportation and warehousing',\n",
    "    49: 'Transportation and warehousing',\n",
    "    51: 'Information',\n",
    "    52: 'Finance and insurance',\n",
    "    53: 'Real estate and rental and leasing',\n",
    "    54: 'Professional, scientific, and technical services',\n",
    "    55: 'Management of companies and enterprises',\n",
    "    56: 'Administrative and support and waste management and remediation services',\n",
    "    61: 'Educational services',\n",
    "    62: 'Health care and social assistance',\n",
    "    71: 'Arts, entertainment, and recreation',\n",
    "    72: 'Accommodation and food services',\n",
    "    81: 'Other services (except public administration)',\n",
    "    92: 'Public administration'\n",
    "}\n",
    "\n",
    "def industry(x):\n",
    "    try:\n",
    "        return industry_dict[int(str(x)[:2])]\n",
    "    except:\n",
    "        return np.nan\n",
    "\n",
    "sba_loan['Industry'] = sba_loan['NAICS'].map(industry)"
   ]
  },
  {
   "cell_type": "code",
   "execution_count": null,
   "id": "df7e700e",
   "metadata": {},
   "outputs": [],
   "source": [
    "sba_loan.dtypes"
   ]
  },
  {
   "cell_type": "markdown",
   "id": "00c37c3e",
   "metadata": {},
   "source": [
    "1. compute the median gross amount of loan approved by the bank GrAppv"
   ]
  },
  {
   "cell_type": "code",
   "execution_count": null,
   "id": "b8e4f5ab",
   "metadata": {},
   "outputs": [],
   "source": [
    "sba_loan.groupby('Industry')['GrAppv'].median()"
   ]
  },
  {
   "cell_type": "markdown",
   "id": "0222e841",
   "metadata": {},
   "source": [
    "2. compute the proportion of loans which have status as charged off (CHGOFF)"
   ]
  },
  {
   "cell_type": "code",
   "execution_count": null,
   "id": "035aa1c6",
   "metadata": {},
   "outputs": [],
   "source": [
    "1-sba_loan.groupby('Industry')['MIS_Status'].mean()"
   ]
  },
  {
   "cell_type": "markdown",
   "id": "beb250a9",
   "metadata": {},
   "source": [
    "3. Divide the data of ApprovalFY into bins: [1960, 1970), [1970, 1980), [1980, 1990), [1990, 2000), [2000, 2010), [2010, 2020) to different groups and compute the proportion/percentage of loans that have been declared to be in default (CHGOFF in MIS_Status)"
   ]
  },
  {
   "cell_type": "code",
   "execution_count": null,
   "id": "20bbb94d",
   "metadata": {},
   "outputs": [],
   "source": [
    "bins = [1960, 1970, 1980, 1990, 2000, 2010]\n",
    "sba_loan['ApprovalFY'] = pd.cut(sba_loan['ApprovalFY'], bins, right=False)"
   ]
  },
  {
   "cell_type": "code",
   "execution_count": null,
   "id": "31c91b39",
   "metadata": {},
   "outputs": [],
   "source": [
    "1-sba_loan.groupby(['ApprovalFY','LowDoc'])['MIS_Status'].mean()"
   ]
  },
  {
   "cell_type": "code",
   "execution_count": null,
   "id": "71d9b122",
   "metadata": {},
   "outputs": [],
   "source": [
    "1-sba_loan.groupby(['ApprovalFY','LowDoc'])['MIS_Status'].mean()[:,1]"
   ]
  },
  {
   "cell_type": "code",
   "execution_count": null,
   "id": "207add0e",
   "metadata": {},
   "outputs": [],
   "source": []
  },
  {
   "cell_type": "markdown",
   "id": "35b0668b",
   "metadata": {},
   "source": [
    "4. Divide the data of ApprovalFY into bins: [1960, 1970), [1970, 1980), [1980, 1990), [1990, 2000), [2000, 2010), [2010, 2020) and compute:\n",
    "\n",
    "  -The number of observations in that group.\n",
    "\n",
    "  -The median gross amount of loan approved by the bank GrAppv.\n",
    "\n",
    "  -The median loan term in months Term.\n",
    "\n",
    "  -The percentage of loans that were fully guaranteed by the SBA (that is GrAppv = SBA_Appv)."
   ]
  },
  {
   "cell_type": "code",
   "execution_count": null,
   "id": "27d371d7",
   "metadata": {},
   "outputs": [],
   "source": [
    "def fully_guaranteed(df):\n",
    "    if df[0]-df[1] == 0:\n",
    "        return 1\n",
    "    else:\n",
    "        return 0"
   ]
  },
  {
   "cell_type": "code",
   "execution_count": null,
   "id": "727a5dff",
   "metadata": {},
   "outputs": [],
   "source": [
    "sba_loan['fully_guaranteed'] = sba_loan[['SBA_Appv','GrAppv']].apply(fully_guaranteed, axis=1)"
   ]
  },
  {
   "cell_type": "code",
   "execution_count": null,
   "id": "5830784f",
   "metadata": {},
   "outputs": [],
   "source": [
    "grouped = sba_loan.groupby(['ApprovalFY','UrbanRural'])"
   ]
  },
  {
   "cell_type": "code",
   "execution_count": null,
   "id": "b8c20528",
   "metadata": {},
   "outputs": [],
   "source": [
    "grouped.agg({\n",
    "    'Name': 'count',\n",
    "    'GrAppv': 'median',\n",
    "    'Term': 'median',\n",
    "    'fully_guaranteed':'mean'\n",
    "})"
   ]
  },
  {
   "cell_type": "code",
   "execution_count": null,
   "id": "414b9af9",
   "metadata": {},
   "outputs": [],
   "source": []
  }
 ],
 "metadata": {
  "kernelspec": {
   "display_name": "Python 3 (ipykernel)",
   "language": "python",
   "name": "python3"
  },
  "language_info": {
   "codemirror_mode": {
    "name": "ipython",
    "version": 3
   },
   "file_extension": ".py",
   "mimetype": "text/x-python",
   "name": "python",
   "nbconvert_exporter": "python",
   "pygments_lexer": "ipython3",
   "version": "3.8.12"
  }
 },
 "nbformat": 4,
 "nbformat_minor": 5
}
