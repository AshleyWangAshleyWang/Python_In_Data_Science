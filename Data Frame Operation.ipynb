{
 "cells": [
  {
   "cell_type": "markdown",
   "id": "904b8422",
   "metadata": {},
   "source": [
    "## 1. DataFrame Filtering\n",
    "\n",
    "Load the Ramen Ratings dataset to Python and store it in a variable called `ramen`.\n",
    "This dataset is available at kaggle: https://www.kaggle.com/residentmario/ramen-ratings\n",
    "\n",
    "  - `'Brand'`: the brand of the ramen product.\n",
    "  - `'Variety'`: the product’s name on its label.\n",
    "  - `'Style'`: packaging style (cup, bowl, tray, etc.)\n",
    "  - `'Country'`: country or dependent territory the product was produced in.\n",
    "  - `'Stars'`: the rating of the product on a 5-point scale."
   ]
  },
  {
   "cell_type": "code",
   "execution_count": null,
   "id": "fd917e57",
   "metadata": {},
   "outputs": [],
   "source": [
    "import pandas as pd\n",
    "ramen = pd.read_csv('...\\\\ramen.csv')\n",
    "ramen"
   ]
  },
  {
   "cell_type": "markdown",
   "id": "7358fae7",
   "metadata": {},
   "source": [
    "1. Filter the observations where the ramen is made in Japan and in Cup, OR the ramen is made in Thailand and in Pack."
   ]
  },
  {
   "cell_type": "code",
   "execution_count": null,
   "id": "9008fe91",
   "metadata": {},
   "outputs": [],
   "source": [
    "ramen[((ramen['Country']=='Japan')&(ramen['Style']=='Cup'))\n",
    "      |((ramen['Country']=='Thailand')&(ramen['Style']=='Pack'))]"
   ]
  },
  {
   "cell_type": "markdown",
   "id": "9cd36965",
   "metadata": {},
   "source": [
    "2. Filter only the observations where the ramen had at least 4 stars and it is made in USA or United States."
   ]
  },
  {
   "cell_type": "code",
   "execution_count": null,
   "id": "7252f566",
   "metadata": {},
   "outputs": [],
   "source": [
    "ramen.loc[(ramen['Stars']>=4)&((ramen['Country']=='USA')|(ramen['Country']=='United States'))]"
   ]
  },
  {
   "cell_type": "markdown",
   "id": "a08f77c9",
   "metadata": {},
   "source": [
    "3. Filter only the Brand and Variety attributes (columns) of the observations where the ramen had at least 4 stars and it is made in Vietnam"
   ]
  },
  {
   "cell_type": "code",
   "execution_count": null,
   "id": "cde15cc4",
   "metadata": {},
   "outputs": [],
   "source": [
    "ramen.loc[(ramen['Stars']>=4)&(ramen['Country']=='Vietnam'),['Brand','Variety']]"
   ]
  },
  {
   "cell_type": "markdown",
   "id": "97b35006",
   "metadata": {},
   "source": [
    "4. Filter only the Variety and Stars attributes of the observations where the ramen had at most 2 stars and the brand is Nissin."
   ]
  },
  {
   "cell_type": "code",
   "execution_count": null,
   "id": "a5fab517",
   "metadata": {},
   "outputs": [],
   "source": [
    "ramen.loc[(ramen['Stars']<=2)&(ramen['Brand']=='Nissin'),['Variety','Stars']]"
   ]
  },
  {
   "cell_type": "code",
   "execution_count": null,
   "id": "7c0ba298",
   "metadata": {},
   "outputs": [],
   "source": []
  },
  {
   "cell_type": "markdown",
   "id": "aac32bfa",
   "metadata": {},
   "source": [
    "## 2. Computing Basic Statistics on Subset of a DataFrame"
   ]
  },
  {
   "cell_type": "markdown",
   "id": "2fdd4069",
   "metadata": {},
   "source": [
    "1. Compute the mean stars rating of all ramen made in the US (that is USA and United States)."
   ]
  },
  {
   "cell_type": "code",
   "execution_count": null,
   "id": "ad4f2aea",
   "metadata": {},
   "outputs": [],
   "source": [
    "ramen.loc[((ramen['Country']=='USA')|(ramen['Country']=='United States')),'Stars'].mean()"
   ]
  },
  {
   "cell_type": "markdown",
   "id": "33efcc9f",
   "metadata": {},
   "source": [
    "2. Find the maximum stars rating of a Vifon ramen (of brand Vifon)."
   ]
  },
  {
   "cell_type": "code",
   "execution_count": null,
   "id": "929b4242",
   "metadata": {},
   "outputs": [],
   "source": [
    "ramen.loc[ramen['Brand']=='Vifon','Stars'].max()"
   ]
  },
  {
   "cell_type": "markdown",
   "id": "d5e6d00b",
   "metadata": {},
   "source": [
    "3. Find the observation (meaning the whole row) of the a Nongshim ramen with the lowest stars rating."
   ]
  },
  {
   "cell_type": "code",
   "execution_count": null,
   "id": "9921a7d6",
   "metadata": {},
   "outputs": [],
   "source": [
    "ramen.loc[ramen['Brand']=='Nongshim','Stars'].min()"
   ]
  },
  {
   "cell_type": "markdown",
   "id": "bb20134a",
   "metadata": {},
   "source": [
    "4. find the observation corresponding to the value found in Ex 3.3. That is, find and print the whole row of the Vifon ramen that has stars rating of 5.0."
   ]
  },
  {
   "cell_type": "code",
   "execution_count": null,
   "id": "10f35204",
   "metadata": {},
   "outputs": [],
   "source": [
    "ramen.loc[(ramen['Brand']=='Vifon')&(ramen['Stars']==5)]"
   ]
  },
  {
   "cell_type": "code",
   "execution_count": null,
   "id": "85b93559",
   "metadata": {},
   "outputs": [],
   "source": []
  },
  {
   "cell_type": "markdown",
   "id": "5467b963",
   "metadata": {},
   "source": [
    "## 3. Function Application"
   ]
  },
  {
   "cell_type": "markdown",
   "id": "3450fafe",
   "metadata": {},
   "source": [
    "1. Compute the average rating of all beef-flavored ramen in the US.\n",
    "\n",
    "   Notes: loop is not allowed"
   ]
  },
  {
   "cell_type": "code",
   "execution_count": 1,
   "id": "7fc91f19",
   "metadata": {},
   "outputs": [
    {
     "ename": "NameError",
     "evalue": "name 'ramen' is not defined",
     "output_type": "error",
     "traceback": [
      "\u001b[1;31m---------------------------------------------------------------------------\u001b[0m",
      "\u001b[1;31mNameError\u001b[0m                                 Traceback (most recent call last)",
      "\u001b[1;32m~\\AppData\\Local\\Temp/ipykernel_30940/2473302664.py\u001b[0m in \u001b[0;36m<module>\u001b[1;34m\u001b[0m\n\u001b[0;32m      5\u001b[0m         \u001b[1;32mreturn\u001b[0m \u001b[1;32mFalse\u001b[0m\u001b[1;33m\u001b[0m\u001b[1;33m\u001b[0m\u001b[0m\n\u001b[0;32m      6\u001b[0m \u001b[1;33m\u001b[0m\u001b[0m\n\u001b[1;32m----> 7\u001b[1;33m \u001b[0mramen\u001b[0m\u001b[1;33m.\u001b[0m\u001b[0mloc\u001b[0m\u001b[1;33m[\u001b[0m\u001b[1;33m(\u001b[0m\u001b[0mramen\u001b[0m\u001b[1;33m.\u001b[0m\u001b[0mapply\u001b[0m\u001b[1;33m(\u001b[0m\u001b[0mfilter_beef\u001b[0m\u001b[1;33m,\u001b[0m\u001b[0maxis\u001b[0m\u001b[1;33m=\u001b[0m\u001b[1;36m1\u001b[0m\u001b[1;33m)\u001b[0m\u001b[1;33m)\u001b[0m\u001b[1;33m&\u001b[0m\u001b[1;33m(\u001b[0m\u001b[0mramen\u001b[0m\u001b[1;33m[\u001b[0m\u001b[1;34m'Country'\u001b[0m\u001b[1;33m]\u001b[0m\u001b[1;33m==\u001b[0m\u001b[1;34m'USA'\u001b[0m\u001b[1;33m)\u001b[0m\u001b[1;33m,\u001b[0m\u001b[1;34m'Stars'\u001b[0m\u001b[1;33m]\u001b[0m\u001b[1;33m.\u001b[0m\u001b[0mmean\u001b[0m\u001b[1;33m(\u001b[0m\u001b[1;33m)\u001b[0m\u001b[1;33m\u001b[0m\u001b[1;33m\u001b[0m\u001b[0m\n\u001b[0m",
      "\u001b[1;31mNameError\u001b[0m: name 'ramen' is not defined"
     ]
    }
   ],
   "source": [
    "def filter_beef(x):\n",
    "    if 'beef' in x['Variety'].lower():\n",
    "        return True\n",
    "    else:\n",
    "        return False\n",
    "    \n",
    "ramen.loc[(ramen.apply(filter_beef,axis=1))&(ramen['Country']=='USA'),'Stars'].mean()"
   ]
  },
  {
   "cell_type": "markdown",
   "id": "46e601a1",
   "metadata": {},
   "source": [
    "2.  adjust the ratings of chicken-flavored ramen observations. If the rating of a chicken-flavored ramen is less than 1, change it to 0. If it is at least 1, lower the rating by 1.\n",
    "\n",
    "Notes: Loop is not allowed"
   ]
  },
  {
   "cell_type": "code",
   "execution_count": null,
   "id": "588d12a6",
   "metadata": {},
   "outputs": [],
   "source": [
    "def filter_chicken(x):\n",
    "    if 'chicken' in x['Variety'].lower():\n",
    "        return True\n",
    "    else:\n",
    "        return False\n",
    "sub_ramen=ramen[ramen.apply(filter_chicken,axis=1)]\n",
    "def adjust_star(x):\n",
    "    if x < 1:\n",
    "        return 0\n",
    "    elif x >= 1: \n",
    "        return x-1\n",
    "ramen.loc[ramen.apply(filter_chicken,axis=1),'Stars']=sub_ramen['Stars'].apply(adjust_star)\n",
    "ramen"
   ]
  },
  {
   "cell_type": "code",
   "execution_count": null,
   "id": "436f651c",
   "metadata": {},
   "outputs": [],
   "source": []
  },
  {
   "cell_type": "markdown",
   "id": "d2f8b1a6",
   "metadata": {},
   "source": [
    "## 4. Modifying DataFame"
   ]
  },
  {
   "cell_type": "markdown",
   "id": "32f04083",
   "metadata": {},
   "source": [
    "1. Set the Stars rating of all Nissin ramen in the US to be 0."
   ]
  },
  {
   "cell_type": "code",
   "execution_count": null,
   "id": "bfaca7e9",
   "metadata": {},
   "outputs": [],
   "source": [
    "ramen.loc[(ramen['Brand'] == 'Nissin') & (ramen['Country'] == 'USA'),'Stars']=0"
   ]
  },
  {
   "cell_type": "markdown",
   "id": "3eaf5e30",
   "metadata": {},
   "source": [
    "2. Remove all the observations of brand Nissin in the US from ramen."
   ]
  },
  {
   "cell_type": "code",
   "execution_count": null,
   "id": "94d0040a",
   "metadata": {},
   "outputs": [],
   "source": [
    "ramen=ramen.loc[-((ramen['Brand']=='Nissin')&(ramen['Country']=='USA'))]"
   ]
  }
 ],
 "metadata": {
  "kernelspec": {
   "display_name": "Python 3 (ipykernel)",
   "language": "python",
   "name": "python3"
  },
  "language_info": {
   "codemirror_mode": {
    "name": "ipython",
    "version": 3
   },
   "file_extension": ".py",
   "mimetype": "text/x-python",
   "name": "python",
   "nbconvert_exporter": "python",
   "pygments_lexer": "ipython3",
   "version": "3.8.12"
  }
 },
 "nbformat": 4,
 "nbformat_minor": 5
}
