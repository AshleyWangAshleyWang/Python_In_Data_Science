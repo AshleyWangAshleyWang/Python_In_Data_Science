{
 "cells": [
  {
   "cell_type": "markdown",
   "id": "b00ad2bb",
   "metadata": {},
   "source": [
    "## NumPy (no loop)"
   ]
  },
  {
   "cell_type": "code",
   "execution_count": 1,
   "id": "7e2d2f96",
   "metadata": {},
   "outputs": [
    {
     "name": "stdout",
     "output_type": "stream",
     "text": [
      "[7, 35, 12, 99, 53, 35, 14, 5, 49, 69, 72, 43, 44, 7, 21, 18, 44, 72, 43, 90]\n"
     ]
    },
    {
     "data": {
      "text/plain": [
       "[0, -1, 1, 1, 0, -1, 0, -1, 0, 1, 1, 0, 0, 0, 1, 1, 0, 1, 0, 1]"
      ]
     },
     "execution_count": 1,
     "metadata": {},
     "output_type": "execute_result"
    }
   ],
   "source": [
    "import random\n",
    "\n",
    "random.seed(123)\n",
    "a_list = [random.randint(1, 100) for i in range(20)]\n",
    "print(a_list)\n",
    "\n",
    "new_list = []\n",
    "for i in a_list:\n",
    "    if i % 3 == 0:\n",
    "        new_list.append(1)\n",
    "    elif i % 5 == 0:\n",
    "        new_list.append(-1)\n",
    "    else:\n",
    "        new_list.append(0)\n",
    "a_list = new_list\n",
    "a_list"
   ]
  },
  {
   "cell_type": "markdown",
   "id": "e497ebec",
   "metadata": {},
   "source": [
    "Write the equivalent code using NumPy Array! \n",
    "Note: no loops included."
   ]
  },
  {
   "cell_type": "code",
   "execution_count": 2,
   "id": "5ec98369",
   "metadata": {},
   "outputs": [
    {
     "name": "stdout",
     "output_type": "stream",
     "text": [
      "[7, 35, 12, 99, 53, 35, 14, 5, 49, 69, 72, 43, 44, 7, 21, 18, 44, 72, 43, 90]\n"
     ]
    }
   ],
   "source": [
    "random.seed(123)\n",
    "a_list = [random.randint(1, 100) for i in range(20)]\n",
    "print(a_list)"
   ]
  },
  {
   "cell_type": "code",
   "execution_count": 3,
   "id": "46289432",
   "metadata": {},
   "outputs": [
    {
     "name": "stdout",
     "output_type": "stream",
     "text": [
      "[ 0 -1  1  1  0 -1  0 -1  0  1  1  0  0  0  1  1  0  1  0  1]\n"
     ]
    }
   ],
   "source": [
    "import numpy as np\n",
    "\n",
    "a_array = np.array(a_list)\n",
    "\n",
    "# add your code here\n",
    "a_array[(a_array%5!=0)&(a_array%3!=0)]=0\n",
    "a_array[(a_array%3==0)&(a_array!=0)]=1\n",
    "a_array[(a_array%5==0)&(a_array!=0)]=-1\n",
    "print(a_array)"
   ]
  },
  {
   "cell_type": "code",
   "execution_count": null,
   "id": "dcedeb1b",
   "metadata": {},
   "outputs": [],
   "source": []
  },
  {
   "cell_type": "markdown",
   "id": "4b12ea6d",
   "metadata": {},
   "source": [
    "## NumPy random generator calculation\n",
    "\n",
    "Use NumPy random generator to do the following tasks:\n",
    "\n",
    "1. Set a random seed.\n",
    "2. Randomly generate 100 numeric values from N(5,1.5).\n",
    "3. Compute the proportion of the randomly generated values that are greater than 7.\n",
    "\n",
    "Note: The use of loops is not allowed in this exercise."
   ]
  },
  {
   "cell_type": "code",
   "execution_count": null,
   "id": "f313ad7e",
   "metadata": {},
   "outputs": [],
   "source": [
    "import numpy as np\n",
    "np.random.seed() # random seed\n",
    "nums=np.random.normal(5,1.5, 100)\n",
    "prop=len(nums[nums>7])/len(nums)\n",
    "prop"
   ]
  },
  {
   "cell_type": "code",
   "execution_count": null,
   "id": "e4e97995",
   "metadata": {},
   "outputs": [],
   "source": []
  },
  {
   "cell_type": "markdown",
   "id": "e15528c7",
   "metadata": {},
   "source": [
    "## check valid birthday\n",
    "\n",
    "Write a function named is_birthday_valid(s) checking if s is a valid birthday.\n",
    "\n",
    "10/10/2020 is a valid birthday.\n",
    "02/30/2020 is not a valid birthday.\n",
    "\n",
    "For example,\n",
    "\n",
    "s = '10/10/2020'\n",
    "s = '02-30-2020'\n",
    "s = '2/ 29/ 1988'"
   ]
  },
  {
   "cell_type": "code",
   "execution_count": null,
   "id": "01a21bad",
   "metadata": {},
   "outputs": [],
   "source": [
    "import datetime\n",
    "\n",
    "def is_birthday_valid(s):\n",
    "    s=s.replace('-', '/').split('/')\n",
    "    correctDate = None\n",
    "    try:\n",
    "        newDate = datetime.date(day=int(s[1]),month=int(s[0]),year=int(s[2]))\n",
    "        correctDate = True\n",
    "        \n",
    "    except:\n",
    "        correctDate = False\n",
    "    return correctDate"
   ]
  },
  {
   "cell_type": "code",
   "execution_count": null,
   "id": "e1453856",
   "metadata": {},
   "outputs": [],
   "source": [
    "is_birthday_valid('10/10/2020') # Expected output: True"
   ]
  },
  {
   "cell_type": "code",
   "execution_count": null,
   "id": "06860e1d",
   "metadata": {},
   "outputs": [],
   "source": [
    "is_birthday_valid('02-30-2020') # Expected output: False"
   ]
  },
  {
   "cell_type": "code",
   "execution_count": null,
   "id": "f34f0cb5",
   "metadata": {},
   "outputs": [],
   "source": [
    "is_birthday_valid('2/ 29/ 1988') # Expected output: True"
   ]
  }
 ],
 "metadata": {
  "kernelspec": {
   "display_name": "Python 3 (ipykernel)",
   "language": "python",
   "name": "python3"
  },
  "language_info": {
   "codemirror_mode": {
    "name": "ipython",
    "version": 3
   },
   "file_extension": ".py",
   "mimetype": "text/x-python",
   "name": "python",
   "nbconvert_exporter": "python",
   "pygments_lexer": "ipython3",
   "version": "3.8.12"
  }
 },
 "nbformat": 4,
 "nbformat_minor": 5
}
